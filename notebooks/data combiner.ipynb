{
 "cells": [
  {
   "cell_type": "code",
   "execution_count": 1,
   "metadata": {},
   "outputs": [
    {
     "name": "stderr",
     "output_type": "stream",
     "text": [
      "/home/cody/anaconda3/lib/python3.6/site-packages/h5py/__init__.py:36: FutureWarning: Conversion of the second argument of issubdtype from `float` to `np.floating` is deprecated. In future, it will be treated as `np.float64 == np.dtype(float).type`.\n",
      "  from ._conv import register_converters as _register_converters\n"
     ]
    }
   ],
   "source": [
    "import numpy as np\n",
    "import h5py\n",
    "import pdb\n",
    "import re"
   ]
  },
  {
   "cell_type": "code",
   "execution_count": 2,
   "metadata": {},
   "outputs": [],
   "source": [
    "line_number = None\n",
    "data = []\n",
    "with open('../data/combined_data_1.txt') as openfileobject:\n",
    "    for line in openfileobject:\n",
    "        if \":\" in line:\n",
    "            line_number = line.split(\":\")\n",
    "            line_number = \"\".join(line_number)\n",
    "        else:\n",
    "            rating = re.split('\\W+',line) \n",
    "            date = \"\".join(rating[2:-1])\n",
    "            rating.pop()\n",
    "            rating.pop()\n",
    "            rating.pop()\n",
    "            rating.pop()\n",
    "            rating.append(date)\n",
    "            rating.insert(0, int(line_number))\n",
    "            rating = list(map(int, rating))\n",
    "            data.append(np.array(rating))\n",
    "\n",
    "data = np.array(data)\n",
    "\n",
    "line_number = None\n",
    "data2 = []\n",
    "with open('../data/combined_data_2.txt') as openfileobject:\n",
    "    for line in openfileobject:\n",
    "        if \":\" in line:\n",
    "            line_number = line.split(\":\")\n",
    "            line_number = \"\".join(line_number)\n",
    "        else:\n",
    "            rating = re.split('\\W+',line) \n",
    "            date = \"\".join(rating[2:-1])\n",
    "            rating.pop()\n",
    "            rating.pop()\n",
    "            rating.pop()\n",
    "            rating.pop()\n",
    "            rating.append(date)\n",
    "            rating.insert(0, int(line_number))\n",
    "            rating = list(map(int, rating))\n",
    "            data2.append(np.array(rating))\n",
    "\n",
    "data2 = np.array(data2)\n",
    "\n",
    "line_number = None\n",
    "data3 = []\n",
    "with open('../data/combined_data_3.txt') as openfileobject:\n",
    "    for line in openfileobject:\n",
    "        if \":\" in line:\n",
    "            line_number = line.split(\":\")\n",
    "            line_number = \"\".join(line_number)\n",
    "        else:\n",
    "            rating = re.split('\\W+',line) \n",
    "            date = \"\".join(rating[2:-1])\n",
    "            rating.pop()\n",
    "            rating.pop()\n",
    "            rating.pop()\n",
    "            rating.pop()\n",
    "            rating.append(date)\n",
    "            rating.insert(0, int(line_number))\n",
    "            rating = list(map(int, rating))\n",
    "            data3.append(np.array(rating))\n",
    "\n",
    "data3 = np.array(data3)\n",
    "\n",
    "line_number = None\n",
    "data4 = []\n",
    "with open('../data/combined_data_4.txt') as openfileobject:\n",
    "    for line in openfileobject:\n",
    "        if \":\" in line:\n",
    "            line_number = line.split(\":\")\n",
    "            line_number = \"\".join(line_number)\n",
    "        else:\n",
    "            rating = re.split('\\W+',line) \n",
    "            date = \"\".join(rating[2:-1])\n",
    "            rating.pop()\n",
    "            rating.pop()\n",
    "            rating.pop()\n",
    "            rating.pop()\n",
    "            rating.append(date)\n",
    "            rating.insert(0, int(line_number))\n",
    "            rating = list(map(int, rating))\n",
    "            data4.append(np.array(rating))\n",
    "\n",
    "data4 = np.array(data4)\n",
    "\n",
    "combined_data = np.concatenate([data, data2, data3, data4], axis=0)\n",
    "del data\n",
    "del data2\n",
    "del data3\n",
    "del data4"
   ]
  },
  {
   "cell_type": "raw",
   "metadata": {},
   "source": [
    "combined_data[0:10]"
   ]
  },
  {
   "cell_type": "code",
   "execution_count": 3,
   "metadata": {},
   "outputs": [],
   "source": [
    "hf = h5py.File('../data/Full_NF.h5', 'w')"
   ]
  },
  {
   "cell_type": "code",
   "execution_count": 4,
   "metadata": {},
   "outputs": [
    {
     "data": {
      "text/plain": [
       "<HDF5 dataset \"dataset_1\": shape (100480507, 4), type \"<i8\">"
      ]
     },
     "execution_count": 4,
     "metadata": {},
     "output_type": "execute_result"
    }
   ],
   "source": [
    "hf.create_dataset('dataset_1', data=combined_data)"
   ]
  },
  {
   "cell_type": "code",
   "execution_count": 5,
   "metadata": {},
   "outputs": [],
   "source": [
    "del combined_data\n",
    "hf.close()"
   ]
  },
  {
   "cell_type": "code",
   "execution_count": 20,
   "metadata": {},
   "outputs": [],
   "source": [
    "dset = h5py.File('../data/Full_NF.h5', 'r')"
   ]
  },
  {
   "cell_type": "code",
   "execution_count": 21,
   "metadata": {},
   "outputs": [],
   "source": [
    "dset = dset[\"dataset_1\"]"
   ]
  },
  {
   "cell_type": "code",
   "execution_count": 22,
   "metadata": {},
   "outputs": [],
   "source": [
    "dset = dset[:]"
   ]
  },
  {
   "cell_type": "code",
   "execution_count": 10,
   "metadata": {},
   "outputs": [],
   "source": [
    "user_list = list(set(dset[:,1]))"
   ]
  },
  {
   "cell_type": "code",
   "execution_count": 11,
   "metadata": {},
   "outputs": [],
   "source": [
    "del dset"
   ]
  },
  {
   "cell_type": "code",
   "execution_count": 12,
   "metadata": {},
   "outputs": [
    {
     "data": {
      "text/plain": [
       "1048577"
      ]
     },
     "execution_count": 12,
     "metadata": {},
     "output_type": "execute_result"
    }
   ],
   "source": [
    "user_list[0]"
   ]
  },
  {
   "cell_type": "code",
   "execution_count": 13,
   "metadata": {},
   "outputs": [
    {
     "data": {
      "text/plain": [
       "480189"
      ]
     },
     "execution_count": 13,
     "metadata": {},
     "output_type": "execute_result"
    }
   ],
   "source": [
    "len(user_list)"
   ]
  },
  {
   "cell_type": "code",
   "execution_count": 14,
   "metadata": {},
   "outputs": [],
   "source": [
    "user_list.sort()"
   ]
  },
  {
   "cell_type": "code",
   "execution_count": 15,
   "metadata": {},
   "outputs": [],
   "source": [
    "user_dictionary = {i: user for user, i in enumerate(user_list)}"
   ]
  },
  {
   "cell_type": "code",
   "execution_count": 16,
   "metadata": {},
   "outputs": [],
   "source": [
    "import pickle\n",
    "with open('../data/name_one_hot_dict.pickle', 'wb') as handle:\n",
    "    pickle.dump(user_dictionary, handle, protocol=pickle.HIGHEST_PROTOCOL)"
   ]
  },
  {
   "cell_type": "code",
   "execution_count": 18,
   "metadata": {},
   "outputs": [],
   "source": [
    "del user_dictionary"
   ]
  },
  {
   "cell_type": "code",
   "execution_count": 19,
   "metadata": {},
   "outputs": [],
   "source": [
    "import statistics"
   ]
  },
  {
   "cell_type": "code",
   "execution_count": 23,
   "metadata": {},
   "outputs": [
    {
     "data": {
      "text/plain": [
       "array([       1,  1488844,        3, 20050906])"
      ]
     },
     "execution_count": 23,
     "metadata": {},
     "output_type": "execute_result"
    }
   ],
   "source": [
    "dset[0]"
   ]
  },
  {
   "cell_type": "code",
   "execution_count": 31,
   "metadata": {},
   "outputs": [],
   "source": [
    "movie = 1\n",
    "rating_list = []\n",
    "mean_movie = {}\n",
    "for rating in dset:\n",
    "    if rating[0] == movie:\n",
    "        rating_list.append(rating[2])\n",
    "    else:\n",
    "        mean_movie[movie] = statistics.mean(rating_list)\n",
    "        rating_list = [rating[2]]\n",
    "        movie += 1\n",
    "\n",
    "mean_movie[movie] = statistics.mean(rating_list)\n",
    "    "
   ]
  },
  {
   "cell_type": "code",
   "execution_count": 32,
   "metadata": {},
   "outputs": [],
   "source": [
    "import pickle\n",
    "with open('../data/mean_rating.pickle', 'wb') as handle:\n",
    "    pickle.dump(mean_movie, handle, protocol=pickle.HIGHEST_PROTOCOL)"
   ]
  },
  {
   "cell_type": "code",
   "execution_count": 33,
   "metadata": {},
   "outputs": [],
   "source": [
    "movie = 1\n",
    "rating_list = []\n",
    "median_movie = {}\n",
    "for rating in dset:\n",
    "    if rating[0] == movie:\n",
    "        rating_list.append(rating[2])\n",
    "    else:\n",
    "        median_movie[movie] = statistics.median(rating_list)\n",
    "        rating_list = [rating[2]]\n",
    "        movie += 1\n",
    "\n",
    "median_movie[movie] = statistics.median(rating_list)"
   ]
  },
  {
   "cell_type": "code",
   "execution_count": 38,
   "metadata": {},
   "outputs": [],
   "source": [
    "with open('../data/median_rating.pickle', 'wb') as handle:\n",
    "    pickle.dump(median_movie, handle, protocol=pickle.HIGHEST_PROTOCOL)"
   ]
  },
  {
   "cell_type": "code",
   "execution_count": 39,
   "metadata": {},
   "outputs": [],
   "source": [
    "movie = 1\n",
    "rating_list = []\n",
    "var_movie = {}\n",
    "for rating in dset:\n",
    "    if rating[0] == movie:\n",
    "        rating_list.append(rating[2])\n",
    "    else:\n",
    "        var_movie[movie] = statistics.variance(rating_list)\n",
    "        rating_list = [rating[2]]\n",
    "        movie += 1\n",
    "\n",
    "var_movie[movie] = statistics.variance(rating_list)"
   ]
  },
  {
   "cell_type": "code",
   "execution_count": 40,
   "metadata": {},
   "outputs": [],
   "source": [
    "with open('../data/movie_var.pickle', 'wb') as handle:\n",
    "    pickle.dump(var_movie, handle, protocol=pickle.HIGHEST_PROTOCOL)"
   ]
  },
  {
   "cell_type": "code",
   "execution_count": 41,
   "metadata": {},
   "outputs": [
    {
     "data": {
      "text/plain": [
       "3"
      ]
     },
     "execution_count": 41,
     "metadata": {},
     "output_type": "execute_result"
    }
   ],
   "source": [
    "mean_movie[2]"
   ]
  },
  {
   "cell_type": "code",
   "execution_count": null,
   "metadata": {},
   "outputs": [],
   "source": []
  }
 ],
 "metadata": {
  "kernelspec": {
   "display_name": "Python 3",
   "language": "python",
   "name": "python3"
  },
  "language_info": {
   "codemirror_mode": {
    "name": "ipython",
    "version": 3
   },
   "file_extension": ".py",
   "mimetype": "text/x-python",
   "name": "python",
   "nbconvert_exporter": "python",
   "pygments_lexer": "ipython3",
   "version": "3.6.4"
  }
 },
 "nbformat": 4,
 "nbformat_minor": 2
}
