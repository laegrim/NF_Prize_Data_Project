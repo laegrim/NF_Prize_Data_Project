{
 "cells": [
  {
   "cell_type": "code",
   "execution_count": 1,
   "metadata": {},
   "outputs": [
    {
     "name": "stderr",
     "output_type": "stream",
     "text": [
      "/home/steich/NF_Prize_Data/nf_prize_env/lib/python3.5/site-packages/h5py/__init__.py:36: FutureWarning: Conversion of the second argument of issubdtype from `float` to `np.floating` is deprecated. In future, it will be treated as `np.float64 == np.dtype(float).type`.\n",
      "  from ._conv import register_converters as _register_converters\n"
     ]
    }
   ],
   "source": [
    "import numpy as np\n",
    "import random\n",
    "from sklearn.manifold import TSNE\n",
    "import matplotlib.pyplot as plt\n",
    "import h5py\n",
    "import random\n",
    "import pickle"
   ]
  },
  {
   "cell_type": "code",
   "execution_count": 2,
   "metadata": {},
   "outputs": [],
   "source": [
    "user_emb_dict = {}\n",
    "with open('../data/user_emb_bow_all_unweighted.tsv', 'r') as iFile:\n",
    "    for line in iFile:\n",
    "        line = line.replace('\\n', '')\n",
    "        line = line.split('\\t')\n",
    "        user_emb_dict[int(line[0])] = np.array([float(i) for i in line[1:]]) "
   ]
  },
  {
   "cell_type": "code",
   "execution_count": 3,
   "metadata": {},
   "outputs": [],
   "source": [
    "rating_weights = {1:-1, 2:-1, 3:1, 4:1, 5:1}"
   ]
  },
  {
   "cell_type": "code",
   "execution_count": 4,
   "metadata": {},
   "outputs": [],
   "source": [
    "hf = h5py.File('../data/Full_NF.h5', 'r')\n",
    "dset = hf[\"dataset_1\"]\n",
    "dset = dset[:]"
   ]
  },
  {
   "cell_type": "code",
   "execution_count": 5,
   "metadata": {},
   "outputs": [],
   "source": [
    "movie_dict = {}\n",
    "for row in dset:\n",
    "    if row[0] not in movie_dict.keys():\n",
    "        movie_dict[row[0]] = [(row[1], row[2])]\n",
    "    else:\n",
    "        movie_dict[row[0]].append((row[1], row[2]))"
   ]
  },
  {
   "cell_type": "code",
   "execution_count": 6,
   "metadata": {},
   "outputs": [],
   "source": [
    "movie_names_dict = {}\n",
    "with open('/home/steich/NF_Prize_Data/data/movie_titles.csv', 'r', encoding=\"ISO-8859-1\") as iFile:\n",
    "    for line in iFile:\n",
    "        line = line.replace('\\n', '')\n",
    "        line = line.split(',')\n",
    "        movie_names_dict[int(line[0])] = line[2]"
   ]
  },
  {
   "cell_type": "code",
   "execution_count": 7,
   "metadata": {},
   "outputs": [],
   "source": [
    "with open('../data/name_one_hot_dict.pickle', 'rb') as handle:\n",
    "    name_one_hot = pickle.load(handle)"
   ]
  },
  {
   "cell_type": "code",
   "execution_count": null,
   "metadata": {},
   "outputs": [],
   "source": [
    "movie_embeddings = []\n",
    "movie_names = []\n",
    "for movie in movie_dict:\n",
    "    users = [(name_one_hot[user[0]], user[1]) for user in movie_dict[movie]]\n",
    "    weighted_user_embs = [user_emb_dict[user[0]] * rating_weights[user[1]] for user in users]\n",
    "    movie_embeddings.append(np.mean(weighted_user_embs, axis=0))\n",
    "    movie_names.append(movie_names_dict[movie])"
   ]
  },
  {
   "cell_type": "code",
   "execution_count": null,
   "metadata": {},
   "outputs": [],
   "source": [
    "m_tsne = TSNE(perplexity=30, n_components=2, init='pca', n_iter=5000, method='exact')\n",
    "n = len(movie_embeddings)\n",
    "sample = random.sample(range(n), 500)\n",
    "low_dim_embs = tsne.fit_transform([movie_embeddings[i] for i in sample])\n",
    "labels = [movie_names[i] for i in sample]\n",
    "plt.figure(figsize=(18,18))\n",
    "for i, label in enumerate(labels):\n",
    "    x, y = low_dim_embs[i, :]\n",
    "    plt.scatter(x,y)\n",
    "    plt.annotate(label,\n",
    "                    xy=(x, y),\n",
    "                    xytext=(5,2),\n",
    "                    textcoords='offset points',\n",
    "                    ha='right',\n",
    "                    va='bottom')\n",
    "plt.savefig(\"/home/steich/NF_Prize_Data/data/tsne_movie_embeddings3.png\")\n",
    "plt.show()"
   ]
  }
 ],
 "metadata": {
  "kernelspec": {
   "display_name": "nf_prize_data",
   "language": "python",
   "name": "nf_prize_data"
  },
  "language_info": {
   "codemirror_mode": {
    "name": "ipython",
    "version": 3
   },
   "file_extension": ".py",
   "mimetype": "text/x-python",
   "name": "python",
   "nbconvert_exporter": "python",
   "pygments_lexer": "ipython3",
   "version": "3.5.2"
  }
 },
 "nbformat": 4,
 "nbformat_minor": 2
}
