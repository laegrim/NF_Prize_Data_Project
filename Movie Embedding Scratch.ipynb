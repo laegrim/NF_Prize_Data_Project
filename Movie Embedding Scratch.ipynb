{
 "cells": [
  {
   "cell_type": "code",
   "execution_count": 22,
   "metadata": {},
   "outputs": [],
   "source": [
    "import numpy as np\n",
    "import tensorflow as tf\n",
    "import keras as k\n",
    "from keras import Sequential\n",
    "from keras.layers import Embedding\n",
    "from tensorflow.contrib.tensorboard.plugins import projector\n",
    "%matplotlib inline\n",
    "import matplotlib.pyplot as plt\n",
    "import os\n",
    "import math"
   ]
  },
  {
   "cell_type": "code",
   "execution_count": 2,
   "metadata": {},
   "outputs": [],
   "source": [
    "log_dir = '/home/steich/NF_Prize_Data/log'"
   ]
  },
  {
   "cell_type": "code",
   "execution_count": 3,
   "metadata": {},
   "outputs": [],
   "source": [
    "if not os.path.exists(log_dir):\n",
    "    os.makedirs(log_dir)"
   ]
  },
  {
   "cell_type": "markdown",
   "metadata": {},
   "source": [
    "Basic idea to be explored here: the main distinguishing feature of a movie is the people involved in its' making.  If we have crew/cast embeddings we can use those (as a sum-of, or similar to making a document or paragraph vector) to make meaningful movie embeddings.\n",
    "\n",
    "Cast/Crew embeddings can be made using IMDB data. A Bag of Words model allows us to create embeddings by predicting, for each movie, other cast and crew that worked on that movie. \n",
    "\n",
    "Sources:\n",
    "* https://github.com/tensorflow/tensorflow/blob/r1.6/tensorflow/examples/tutorials/word2vec/word2vec_basic.py\n",
    "* https://www.tensorflow.org/tutorials/word2vec\n",
    "* https://cs.stanford.edu/~quocle/paragraph_vector.pdf\n",
    "* https://arxiv.org/pdf/1301.3781.pdf\n",
    "* https://arxiv.org/pdf/1507.07998.pdf\n",
    "* https://www.imdb.com/interfaces/\n"
   ]
  },
  {
   "cell_type": "code",
   "execution_count": 4,
   "metadata": {},
   "outputs": [],
   "source": [
    "#First, get the data out of the .tsv files\n",
    "\n",
    "#using the name.basics.tsv file we can create a \n",
    "#cast/crew id -> name dictionary\n",
    "id_to_name_dict = {}\n",
    "scalar_to_id_dict = {}\n",
    "name_count = 1\n",
    "with open('data/imdb/name.basics.tsv') as iFile:\n",
    "    for line in iFile:\n",
    "        fields = line.split('\\t')\n",
    "        id_to_name_dict[fields[0]] = [fields[1], name_count]\n",
    "        scalar_to_id_dict[name_count] = fields[0]\n",
    "        name_count += 1 #scalar id for network"
   ]
  },
  {
   "cell_type": "markdown",
   "metadata": {},
   "source": [
    "#we can also create a movie_id -> name dictionary\n",
    "id_to_movie_dict = {}\n",
    "movie_count = 0\n",
    "with open('data/imdb/title.basics.tsv') as iFile:\n",
    "    for line in iFile:\n",
    "        fields = line.split('\\t')\n",
    "        id_to_movie_dict[fields[0]] = [fields[2], movie_count]\n",
    "        movie_count += 1"
   ]
  },
  {
   "cell_type": "code",
   "execution_count": 5,
   "metadata": {},
   "outputs": [],
   "source": [
    "#now we need to build a dictionary of people involved in each movie\n",
    "\n",
    "#title.principals.tsv has lead/billed actors and directors\n",
    "#title.crew.tsv has other notable figures who worked on each movie\n",
    "# - it looks like there is some overlap\n",
    "#we want a dict like this: movie_dict[\"movie_id\"]=[\"person_id1\", ...]\n",
    "movie_dict = {}\n",
    "\n",
    "#with open('data/imdb/title.crew.tsv') as crewFile:\n",
    "#    for line in crewFile:\n",
    "#        fields = line.split('\\t')\n",
    "#        directors = []\n",
    "#        writers = []\n",
    "#        if '\\\\' + 'N' not in fields[1]:\n",
    "#            directors = fields[1].split(',')\n",
    "#        if '\\\\' + 'N' not in fields[2]:\n",
    "#            writers = fields[2].split(',')\n",
    "#        movie_dict[fields[0]] = directors + writers\n",
    "        \n",
    "with open('data/imdb/title.principals.tsv') as prinFile:\n",
    "    for line in prinFile:        \n",
    "        fields = line.split('\\t')\n",
    "        if not movie_dict.get(fields[0]):\n",
    "            movie_dict[fields[0]] = []\n",
    "        if fields[2] not in movie_dict[fields[0]]:\n",
    "            movie_dict[fields[0]].append(fields[2])\n",
    "            if not id_to_name_dict.get(fields[2]): \n",
    "                #looks like there's some unknown/unnamed people\n",
    "                id_to_name_dict[fields[2]] = ('UNK', name_count)\n",
    "                name_count += 1\n"
   ]
  },
  {
   "cell_type": "code",
   "execution_count": 6,
   "metadata": {},
   "outputs": [],
   "source": [
    "#since we want bag of words training, our input is a name scalar, \n",
    "#and our output is a list of the name scalars associted with that name\n",
    "#on the production the batch was taken from\n",
    "\n",
    "x_train = []\n",
    "y_train = []\n",
    "\n",
    "for movie in movie_dict:\n",
    "    for person in movie_dict[movie]:\n",
    "        y = id_to_name_dict[person][1]\n",
    "        x = [id_to_name_dict[p][1] for p in movie_dict[movie] if p != person]\n",
    "        if len(x) < 9:\n",
    "            x += [0 for i in range(9 - len(x))]\n",
    "        x_train.append(x)\n",
    "        y_train.append(y)\n"
   ]
  },
  {
   "cell_type": "code",
   "execution_count": 20,
   "metadata": {},
   "outputs": [],
   "source": [
    "epochs = 100\n",
    "batch_size = 32\n",
    "embedding_size = 128"
   ]
  },
  {
   "cell_type": "code",
   "execution_count": 8,
   "metadata": {},
   "outputs": [],
   "source": [
    "i = 0\n",
    "x_train_batches = []\n",
    "y_train_batches = []\n",
    "while i + batch_size < len(x_train):\n",
    "    x_train_batches.append(x_train[i:i+batch_size])\n",
    "    y_train_batches.append(y_train[i:i+batch_size])\n",
    "    i+=batch_size"
   ]
  },
  {
   "cell_type": "code",
   "execution_count": 9,
   "metadata": {},
   "outputs": [],
   "source": [
    "x_train_batches = np.array(x_train_batches)\n",
    "y_train_batches = np.array(y_train_batches)"
   ]
  },
  {
   "cell_type": "code",
   "execution_count": 10,
   "metadata": {},
   "outputs": [],
   "source": [
    "np_x_train = np.array(x_train[0:-7])\n",
    "np_y_train = np.array(y_train[0:-7])"
   ]
  },
  {
   "cell_type": "code",
   "execution_count": 11,
   "metadata": {},
   "outputs": [
    {
     "data": {
      "text/plain": [
       "(853718, 32, 9)"
      ]
     },
     "execution_count": 11,
     "metadata": {},
     "output_type": "execute_result"
    }
   ],
   "source": [
    "x_train_batches.shape"
   ]
  },
  {
   "cell_type": "code",
   "execution_count": 16,
   "metadata": {},
   "outputs": [
    {
     "data": {
      "text/plain": [
       "8470526"
      ]
     },
     "execution_count": 16,
     "metadata": {},
     "output_type": "execute_result"
    }
   ],
   "source": [
    "name_count"
   ]
  },
  {
   "cell_type": "code",
   "execution_count": 15,
   "metadata": {},
   "outputs": [
    {
     "data": {
      "text/plain": [
       "array([1600342, 5220376, 2220979, ...,   31705,   38399, 1371267])"
      ]
     },
     "execution_count": 15,
     "metadata": {},
     "output_type": "execute_result"
    }
   ],
   "source": [
    "np_y_train"
   ]
  },
  {
   "cell_type": "code",
   "execution_count": 17,
   "metadata": {},
   "outputs": [],
   "source": [
    "def generate_batch():\n",
    "    curr_batch = np.random.choice(x_train_batches.shape[0])\n",
    "    return (x_train_batches[curr_batch], y_train_batches[curr_batch])"
   ]
  },
  {
   "cell_type": "code",
   "execution_count": 23,
   "metadata": {},
   "outputs": [
    {
     "ename": "NameError",
     "evalue": "name 'num_sampled' is not defined",
     "output_type": "error",
     "traceback": [
      "\u001b[0;31m---------------------------------------------------------------------------\u001b[0m",
      "\u001b[0;31mNameError\u001b[0m                                 Traceback (most recent call last)",
      "\u001b[0;32m<ipython-input-23-14e9ac402600>\u001b[0m in \u001b[0;36m<module>\u001b[0;34m()\u001b[0m\n\u001b[1;32m     30\u001b[0m                 \u001b[0minputs\u001b[0m\u001b[0;34m=\u001b[0m\u001b[0membed\u001b[0m\u001b[0;34m,\u001b[0m\u001b[0;34m\u001b[0m\u001b[0m\n\u001b[1;32m     31\u001b[0m                 \u001b[0mlabels\u001b[0m\u001b[0;34m=\u001b[0m\u001b[0mtrain_labels\u001b[0m\u001b[0;34m,\u001b[0m\u001b[0;34m\u001b[0m\u001b[0m\n\u001b[0;32m---> 32\u001b[0;31m                 \u001b[0mnum_sampled\u001b[0m\u001b[0;34m=\u001b[0m\u001b[0mnum_sampled\u001b[0m\u001b[0;34m,\u001b[0m\u001b[0;34m\u001b[0m\u001b[0m\n\u001b[0m\u001b[1;32m     33\u001b[0m                 num_classes=vocabulary_size))\n\u001b[1;32m     34\u001b[0m \u001b[0;34m\u001b[0m\u001b[0m\n",
      "\u001b[0;31mNameError\u001b[0m: name 'num_sampled' is not defined"
     ]
    }
   ],
   "source": [
    "graph = tf.Graph()\n",
    "with graph.as_default():\n",
    "    \n",
    "    #input data here\n",
    "    with tf.name_scope('inputs'):\n",
    "        train_inputs = tf.placeholder(tf.int32, shape=[batch_size, 9])\n",
    "        train_labels = tf.placeholder(tf.int32, shape=[batch_size])\n",
    "        #valid_dataset = tf.constant(valid_examples, dtype=tf.int32)\n",
    "        \n",
    "    with tf.device('/gpu:0'):\n",
    "        with tf.name_scope('embeddings'):\n",
    "            embeddings = tf.Variable(\n",
    "                tf.random_uniform([name_count, embedding_size], -1.0, 1.0))\n",
    "            embed = tf.nn.embedding_lookup(embeddings, train_inputs)\n",
    "            \n",
    "        with tf.name_scope('weights'):\n",
    "            nce_weights = tf.Variable(\n",
    "                tf.truncated_normal(\n",
    "                    [name_count, embedding_size],\n",
    "                    stddev=1.0 / math.sqrt(embedding_size)))\n",
    "        with tf.name_scope('biases'):\n",
    "            nce_biases = tf.Variable(tf.zeros([name_count]))\n",
    "            \n",
    "    \n",
    "    with tf.name_scope('loss'):\n",
    "        loss = tf.reduce_mean(\n",
    "            tf.nn.nce_loss(\n",
    "                weights=nce_weights,\n",
    "                biases=nce_biases,\n",
    "                inputs=embed,\n",
    "                labels=train_labels,\n",
    "                num_sampled=num_sampled,\n",
    "                num_classes=vocabulary_size))\n",
    "        \n",
    "    tf.summary.scalar('loss', loss)\n",
    "    \n",
    "    with tf.name_scope('optimizer'):\n",
    "        optimizer = tf.train.GradientDescentOptimizer(1.0).minimize(loss)\n",
    "        \n",
    "    norm = tf.sqrt(tf.reduce_sum(tf.square(embeddings), 1, keep_dims=True))\n",
    "    normalized_embeddings = embeddings / norm\n",
    "    \n",
    "    #valid_embeddings = tf.nn.embedding_lookup(normalized_embeddings, valid_dataset)\n",
    "    #similarity = tf.matmul(valid_embeddings, normalized_embeddings, transpose_b=True)\n",
    "    \n",
    "    merged = tf.summary.merge_all()\n",
    "    \n",
    "    init = tf.global_variables_initializer()\n",
    "    \n",
    "    saver = tf.train.Saver()\n",
    "\n",
    "num_steps = 100001\n",
    "\n",
    "with tf.Session(graph=graph) as session:\n",
    "    \n",
    "    writer = tf.summary.FileWriter(FLAGS.log_dir, session.graph)\n",
    "    \n",
    "    init.run()\n",
    "    print('Initialized')\n",
    "    \n",
    "    average_loss = 0\n",
    "    \n",
    "    for step in range(num_steps):\n",
    "        batch_inputs, batch_labels = generate_batch()\n",
    "        \n",
    "        feed_dict = {train_inputs: batch_inputs, train_labels: batch_labels}\n",
    "        \n",
    "        run_metadata = tf.RunMetadata()\n",
    "        \n",
    "        _, summary, loss_val = session.run(\n",
    "            [optimizer, merged, loss],\n",
    "            feed_dict=feed_dict,\n",
    "            run_metadata=run_metatdata)\n",
    "        average_loss += loss_val\n",
    "        \n",
    "        writer.add_summary(summary, step)\n",
    "        if step == (num_steps - 1):\n",
    "            writer.add_run_metatdata(run_metadata, 'step%d' % step)\n",
    "            \n",
    "        if step % 2000 == 0:\n",
    "            if step > 0:\n",
    "                average_loss /= 2000\n",
    "                \n",
    "            print('Average loss at step ', step, ': ', average_loss)\n",
    "            average_loss = 0\n",
    "            \n",
    "            \n",
    "            \n",
    "    final_embeddings = normalized_embeddings.eval()\n",
    "    saver.save(session, os.path.join(log_dir, 'metadata.tsv'))\n",
    "    \n",
    "writer.close()\n"
   ]
  }
 ],
 "metadata": {
  "kernelspec": {
   "display_name": "nf_prize_data",
   "language": "python",
   "name": "nf_prize_data"
  },
  "language_info": {
   "codemirror_mode": {
    "name": "ipython",
    "version": 3
   },
   "file_extension": ".py",
   "mimetype": "text/x-python",
   "name": "python",
   "nbconvert_exporter": "python",
   "pygments_lexer": "ipython3",
   "version": "3.5.2"
  }
 },
 "nbformat": 4,
 "nbformat_minor": 2
}
